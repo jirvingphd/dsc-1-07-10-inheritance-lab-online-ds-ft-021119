{
 "cells": [
  {
   "cell_type": "markdown",
   "metadata": {},
   "source": [
    "# Inheritance - Lab\n",
    "\n",
    "## Introduction\n",
    "\n",
    "In this lab, we'll use what we've learned about inheritance to model a zoo using superclasses, subclasses, and maybe even an abstract superclass!\n",
    "\n",
    "## Objectives\n",
    "\n",
    "You will be able to:\n",
    "\n",
    "* Use inheritance to to write D.R.Y. code\n",
    "* Understand the relationship between subclasses and superclasses\n",
    "* Create Object-Oriented data models that describe the real world with classes and subclasses\n",
    "\n",
    "## Modeling a Zoo\n",
    "\n",
    "\n",
    "Consider the following scenario:  You've been hired by a zookeeper to build a program that keeps track of all the animals in the zoo.  This is a great opportunity to make use of Inheritance and Object-Oriented Programming!\n",
    "\n",
    "## Creating an Abstract Superclass\n",
    "\n",
    "Start by creating an abstract superclass, `Animal`.  When our program is complete, all subclasses of `Animal` will have the following attributes:\n",
    "\n",
    "* `name`, which is a string set at instantation time\n",
    "* `size`, which can be `'small'`, `'medium'`, `'large'`, or `'enormous'`.\n",
    "* `weight`, which is an integer set at integer set at instantiation time.\n",
    "* `species`, a string that tells us the species of the animal\n",
    "* `food_type`, which can be `'herbivore'`, `'carnivore'`, or `'omnivore'`\n",
    "* `nocturnal`, a boolean value that is `True` if the animal sleeps during the day, otherwise `False`\n",
    "\n",
    "They'll also have the following behaviors:\n",
    "\n",
    "* `sleep`, which prints a string saying if the animal sleeps during day or night\n",
    "* `eat`, which takes in the string `plants` or `meat`, and returns `'{animal name} the {animal species} thinks {food} is yummy!'` or `'I don't eat this!'` based on the animal's `food_type` attribute. \n",
    "\n",
    "In the cell below, create an abstract superclass that meets these specifications.\n",
    "\n",
    "**_NOTE:_** For some attributes in an abstract superclass such as `size`, the initial value doesn't matter--just make sure that you remember to override it in each of the subclasses!"
   ]
  },
  {
   "cell_type": "code",
   "execution_count": 19,
   "metadata": {},
   "outputs": [],
   "source": [
    "\n",
    "class Animal(object):\n",
    "    def __init__(self,name=None,weight=None,size=None,species=None,food_type=None,nocturnal=False):        \n",
    "        self.name = name\n",
    "        self.size = size #small medium large or enormous\n",
    "        self.weight = weight\n",
    "        self.species = species\n",
    "        self.food_type = food_type #herbivore carivore omnivore\n",
    "        self.nocturnal = nocturnal\n",
    "        \n",
    "    def sleep(self):\n",
    "        if self.nocturnal == True:\n",
    "            sleep_at = 'at night'\n",
    "        else:\n",
    "            sleep_at = 'during the day'\n",
    "        return print(f'{self.name} the {self.species} sleeps {sleep_at}.')\n",
    "            \n",
    "    def eat(self,food):\n",
    "        likes_it=[f'{self.name} the {self.species} thinks {self.food_type} is yummy!']\n",
    "        if self.food_type=='omnivore':\n",
    "            print(likes_it)\n",
    "        \n",
    "        elif food == 'plants' and self.food_type == 'herbivore':\n",
    "            print(likes_it)\n",
    "       \n",
    "        elif food == 'meat' and self.food_type == 'carnivore':\n",
    "            print(likes_it)\n",
    "        else:\n",
    "            print('I dont eat this!')"
   ]
  },
  {
   "cell_type": "markdown",
   "metadata": {},
   "source": [
    "Great! Now that we have our Abstract Superclass, we can begin building out the specific animal classes.\n",
    "\n",
    "In the cell below, complete the `Elephant` class.  This class should:\n",
    "\n",
    "* Subclass `Animal`\n",
    "* Have a species of `'elephant'`\n",
    "* Have a size of `'enormous'`\n",
    "* Have a food type of `'herbivore'`\n",
    "* Set nocturnal to `False`\n",
    "\n",
    "**_Hint:_** Remember to make use of the `super()` object during initialization, and be sure to pass in the values it expects at instantiation time!"
   ]
  },
  {
   "cell_type": "code",
   "execution_count": 20,
   "metadata": {},
   "outputs": [],
   "source": [
    "class Elephant(Animal):\n",
    "    \n",
    "    def __init__(self,name=None,weight=None): #,name='Ele',weight=0): #,name,weight):\n",
    "        super().__init__(name,weight)\n",
    "        self.species='elephant'\n",
    "        self.size='enormous'\n",
    "        self.food_type='herbivore'\n",
    "        self.nocturnal=False"
   ]
  },
  {
   "cell_type": "markdown",
   "metadata": {},
   "source": [
    "Great! Now, in the cell below, create a `Tiger` class.  This class should:\n",
    "\n",
    "* Subclass `Animal`\n",
    "* Have a species of `'tiger'`\n",
    "* Have a size of `'large'`\n",
    "* Have a food type of `'carnivore'`\n",
    "* Set nocturnal to `True`"
   ]
  },
  {
   "cell_type": "code",
   "execution_count": 21,
   "metadata": {},
   "outputs": [],
   "source": [
    "class Tiger(Animal):\n",
    "    \n",
    "    def __init__(self,name=None,weight=None): #,name='Ele',weight=0): #,name,weight):\n",
    "        super().__init__(name,weight)\n",
    "        self.species='tiger'\n",
    "        self.size='large'\n",
    "        self.food_type='carnivore'\n",
    "        self.nocturnal=True"
   ]
  },
  {
   "cell_type": "markdown",
   "metadata": {},
   "source": [
    "Great! 2 More classes to go. In the cell below, create a `Raccoon` class.  This class should:\n",
    "\n",
    "* Subclass `Animal`\n",
    "* Have a species of `raccoon`\n",
    "* Have a size of `'small'`\n",
    "* Have a food type of `'omnivore'`\n",
    "* Set nocturnal to `True`"
   ]
  },
  {
   "cell_type": "code",
   "execution_count": 22,
   "metadata": {},
   "outputs": [],
   "source": [
    "class Raccoon(Animal):\n",
    "    \n",
    "    def __init__(self,name=None,weight=None): #,name='Ele',weight=0): #,name,weight):\n",
    "        super().__init__(name,weight)\n",
    "        self.species='raccoon'\n",
    "        self.size='small'\n",
    "        self.food_type='omnivore'\n",
    "        self.nocturnal=True"
   ]
  },
  {
   "cell_type": "markdown",
   "metadata": {},
   "source": [
    "Finally, let's create a `Gorilla` class.  This class should:\n",
    "\n",
    "* Subclass `Animal`\n",
    "* Have a species of `gorilla`\n",
    "* Have a size of `'Large'`\n",
    "* Have a food type of `'herbivore'`\n",
    "* Set nocturnal to `False`"
   ]
  },
  {
   "cell_type": "code",
   "execution_count": 23,
   "metadata": {},
   "outputs": [],
   "source": [
    "class Gorilla(Animal):\n",
    "    \n",
    "    def __init__(self,name=None,weight=None): #,name='Ele',weight=0): #,name,weight):\n",
    "        super().__init__(name,weight)\n",
    "        self.species='gorilla'\n",
    "        self.size='large'\n",
    "        self.food_type='herbivore'\n",
    "        self.nocturnal=False"
   ]
  },
  {
   "cell_type": "markdown",
   "metadata": {},
   "source": [
    "## Using Our Objects\n",
    "\n",
    "Now that we've created classes to model each of the animals in the zoo, we'll write a function that helps us keep track of when to feed different animals.  But, before we can do that, we need to populate our zoo!\n",
    "\n",
    "In the cell below, create an array called `zoo`.  Then, complete the `add_animal_to_zoo` function. \n",
    "\n",
    "This function should take in the following parameters:\n",
    "\n",
    "* `zoo`, an array representing the current state of the zoo\n",
    "* `animal_type`, a string.  Can be `'Gorilla'`, `'Raccoon'`, `'Tiger'`, or `'Elephant'`.\n",
    "* `name`, the name of the animal being created\n",
    "* `weight`, the weight of the animal being created\n",
    "\n",
    "The function should then:\n",
    "\n",
    "* use `animal_type` to determine which object to create\n",
    "* Create an instance of that animal, passing in the `name` and `weight`\n",
    "* Append the newly created animal to `zoo`\n",
    "* Return `zoo`"
   ]
  },
  {
   "cell_type": "code",
   "execution_count": 24,
   "metadata": {},
   "outputs": [],
   "source": [
    "zoo=[]\n",
    "#import inheritance_lab\n",
    "#from inheritance_lab import Animal, Elephant, Tiger,Raccoon,Gorilla\n",
    "def add_animal_to_zoo(zoo, animal_type, name, weight):\n",
    "    new_animal_type=animal_type.title()\n",
    "\n",
    "    # Create a new object, based on animal_type  \n",
    "    if new_animal_type == 'Elephant':\n",
    "        new_animal=Elephant(name,weight)\n",
    "        \n",
    "    elif new_animal_type == 'Tiger':      \n",
    "        new_animal=Tiger(name,weight)\n",
    "        \n",
    "    elif new_animal_type == 'Raccoon':        \n",
    "        new_animal=Raccoon(name,weight)\n",
    "        \n",
    "    elif new_animal_type=='Gorilla':\n",
    "        new_animal = Gorilla(name,weight)\n",
    "    else:\n",
    "        print('Incorrect animal type')\n",
    "        \n",
    "    \n",
    "    return zoo.append(new_animal)\n"
   ]
  },
  {
   "cell_type": "markdown",
   "metadata": {},
   "source": [
    "Great! Now, let's add some animals to our zoo. \n",
    "\n",
    "Create the following animals and add them to our zoo.  The names and weights are up to you.\n",
    "\n",
    "* 2 Elephants\n",
    "* 2 Raccons\n",
    "* 1 Gorilla\n",
    "* 3 Tigers"
   ]
  },
  {
   "cell_type": "code",
   "execution_count": 25,
   "metadata": {},
   "outputs": [],
   "source": [
    "# Create your animals and add them to the 'zoo' in this cell!\n",
    "add_animal_to_zoo(zoo,'elephant','Bob',500)        #\n",
    "add_animal_to_zoo(zoo,'elephant','Joe',550)        #\n",
    "add_animal_to_zoo(zoo,'raccoon','John',100)        #\n",
    "add_animal_to_zoo(zoo,'raccoon','Paul',100)        #\n",
    "add_animal_to_zoo(zoo,'gorilla','CRAAAZY',400)        \n",
    "add_animal_to_zoo(zoo,'tiger','Tigger',30)        \n",
    "add_animal_to_zoo(zoo,'tiger','Tony',75)        \n",
    "add_animal_to_zoo(zoo,'tiger','Your Mom',180)        \n"
   ]
  },
  {
   "cell_type": "markdown",
   "metadata": {},
   "source": [
    "Great! Now that we have a populated zoo, we can do what the zookeeper hired us to do--write a program that feeds the correct animals the right food at the right times!\n",
    "\n",
    "To do this, we'll write a function called `feed_animals`.  This function should take in two arguments:\n",
    "\n",
    "* `zoo`, the zoo array containing all the animals\n",
    "* `time`, which can be `'Day'` or `'Night'`.  This should default to day if nothing is entered for `time`.\n",
    "\n",
    "This function should:\n",
    "\n",
    "* Feed only the non-nocturnal animals if `time='Day'`, or only the nocturnal animals if `time='Night'`\n",
    "* Check the food type of each animal before feeding.  If the animal is a carnivore, feed it `meat`; otherwise, feed it `plants`. Feed the animals by using their `.eat()` method."
   ]
  },
  {
   "cell_type": "code",
   "execution_count": 26,
   "metadata": {},
   "outputs": [],
   "source": [
    "def feed_animals(zoo,time):\n",
    "    food_list={'omnivore':'plants','carnivore':'meat','herbivore':'plants'}\n",
    "    for z in zoo:\n",
    "        \n",
    "        if (time.lower() == 'day') and (z.nocturnal == False):\n",
    "            z.eat(food_list[z.food_type])\n",
    "            \n",
    "        elif (time.lower() == 'night') and (z.nocturnal==True):\n",
    "            z.eat(food_list[z.food_type])"
   ]
  },
  {
   "cell_type": "markdown",
   "metadata": {},
   "source": [
    "Now, let's test out our program.  Call the function for a daytime feeding below."
   ]
  },
  {
   "cell_type": "code",
   "execution_count": 27,
   "metadata": {},
   "outputs": [
    {
     "name": "stdout",
     "output_type": "stream",
     "text": [
      "['Bob the elephant thinks herbivore is yummy!']\n",
      "['Joe the elephant thinks herbivore is yummy!']\n",
      "['CRAAAZY the gorilla thinks herbivore is yummy!']\n"
     ]
    }
   ],
   "source": [
    "feed_animals(zoo,'day')"
   ]
  },
  {
   "cell_type": "markdown",
   "metadata": {},
   "source": [
    "That looks correct--the two species that we have that aren't nocturnal are elephants and gorillas.  \n",
    "\n",
    "In the cell below, call `feed_animals` again, but this time set `time='Night'`"
   ]
  },
  {
   "cell_type": "code",
   "execution_count": 29,
   "metadata": {},
   "outputs": [
    {
     "name": "stdout",
     "output_type": "stream",
     "text": [
      "['John the raccoon thinks omnivore is yummy!']\n",
      "['Paul the raccoon thinks omnivore is yummy!']\n",
      "['Tigger the tiger thinks carnivore is yummy!']\n",
      "['Tony the tiger thinks carnivore is yummy!']\n",
      "['Your Mom the tiger thinks carnivore is yummy!']\n"
     ]
    }
   ],
   "source": [
    "feed_animals(zoo,'night')"
   ]
  },
  {
   "cell_type": "markdown",
   "metadata": {},
   "source": [
    "Thats it! You've used OOP and inheritance to build a working function to help the zookeeper feed his animals the right food at the correct times!\n",
    "\n",
    "## Summary\n",
    "\n",
    "In this lab, you learned how to:\n",
    "\n",
    "* Use inheritance to to write D.R.Y. code\n",
    "* Understand the relationship between subclasses and superclasses\n",
    "* Create Object-Oriented data models that describe the real world with classes and subclasses"
   ]
  }
 ],
 "metadata": {
  "kernelspec": {
   "display_name": "Python 3 (Spyder)",
   "language": "python3",
   "name": "learn-env"
  },
  "language_info": {
   "codemirror_mode": {
    "name": "ipython",
    "version": 3
   },
   "file_extension": ".py",
   "mimetype": "text/x-python",
   "name": "python",
   "nbconvert_exporter": "python",
   "pygments_lexer": "ipython3",
   "version": "3.6.6"
  },
  "toc": {
   "base_numbering": 1,
   "nav_menu": {},
   "number_sections": false,
   "sideBar": true,
   "skip_h1_title": false,
   "title_cell": "Table of Contents",
   "title_sidebar": "Contents",
   "toc_cell": false,
   "toc_position": {},
   "toc_section_display": true,
   "toc_window_display": false
  },
  "varInspector": {
   "cols": {
    "lenName": 16,
    "lenType": 16,
    "lenVar": 40
   },
   "kernels_config": {
    "python": {
     "delete_cmd_postfix": "",
     "delete_cmd_prefix": "del ",
     "library": "var_list.py",
     "varRefreshCmd": "print(var_dic_list())"
    },
    "r": {
     "delete_cmd_postfix": ") ",
     "delete_cmd_prefix": "rm(",
     "library": "var_list.r",
     "varRefreshCmd": "cat(var_dic_list()) "
    }
   },
   "types_to_exclude": [
    "module",
    "function",
    "builtin_function_or_method",
    "instance",
    "_Feature"
   ],
   "window_display": true
  }
 },
 "nbformat": 4,
 "nbformat_minor": 2
}
